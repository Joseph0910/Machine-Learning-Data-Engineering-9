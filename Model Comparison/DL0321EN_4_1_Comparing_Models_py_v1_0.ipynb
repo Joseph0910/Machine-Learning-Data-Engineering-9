{
  "nbformat": 4,
  "nbformat_minor": 0,
  "metadata": {
    "kernelspec": {
      "display_name": "Python",
      "language": "python",
      "name": "conda-env-python-py"
    },
    "language_info": {
      "codemirror_mode": {
        "name": "ipython",
        "version": 3
      },
      "file_extension": ".py",
      "mimetype": "text/x-python",
      "name": "python",
      "nbconvert_exporter": "python",
      "pygments_lexer": "ipython3",
      "version": "3.6.7"
    },
    "colab": {
      "name": "DL0321EN-4-1-Comparing-Models-py-v1.0.ipynb",
      "provenance": [],
      "collapsed_sections": []
    },
    "accelerator": "GPU"
  },
  "cells": [
    {
      "cell_type": "markdown",
      "metadata": {
        "button": false,
        "deletable": true,
        "new_sheet": false,
        "run_control": {
          "read_only": false
        },
        "id": "3maUGqgijdwl",
        "colab_type": "text"
      },
      "source": [
        "<a href=\"https://cognitiveclass.ai\"><img src = \"https://s3-api.us-geo.objectstorage.softlayer.net/cf-courses-data/CognitiveClass/Logos/organization_logo/organization_logo.png\" width = 400> </a>\n",
        "\n",
        "<h1 align=center><font size = 5>Peer Review Final Assignment</font></h1>"
      ]
    },
    {
      "cell_type": "markdown",
      "metadata": {
        "button": false,
        "deletable": true,
        "new_sheet": false,
        "run_control": {
          "read_only": false
        },
        "id": "1l2YWzP7jdwo",
        "colab_type": "text"
      },
      "source": [
        "## Introduction\n"
      ]
    },
    {
      "cell_type": "markdown",
      "metadata": {
        "button": false,
        "deletable": true,
        "new_sheet": false,
        "run_control": {
          "read_only": false
        },
        "id": "YVW3zXTZjdws",
        "colab_type": "text"
      },
      "source": [
        "In this lab, you will build an image classifier using the VGG16 pre-trained model, and you will evaluate it and compare its performance to the model we built in the last module using the ResNet50 pre-trained model. Good luck!"
      ]
    },
    {
      "cell_type": "markdown",
      "metadata": {
        "button": false,
        "deletable": true,
        "new_sheet": false,
        "run_control": {
          "read_only": false
        },
        "id": "P3CdMRYajdwu",
        "colab_type": "text"
      },
      "source": [
        "## Table of Contents\n",
        "\n",
        "<div class=\"alert alert-block alert-info\" style=\"margin-top: 20px\">\n",
        "\n",
        "<font size = 3>    \n",
        "\n",
        "1. <a href=\"#item41\">Download Data \n",
        "2. <a href=\"#item42\">Part 1</a>\n",
        "3. <a href=\"#item43\">Part 2</a>  \n",
        "4. <a href=\"#item44\">Part 3</a>  \n",
        "\n",
        "</font>\n",
        "    \n",
        "</div>"
      ]
    },
    {
      "cell_type": "markdown",
      "metadata": {
        "button": false,
        "deletable": true,
        "new_sheet": false,
        "run_control": {
          "read_only": false
        },
        "id": "Qv4WBNRmjdwx",
        "colab_type": "text"
      },
      "source": [
        "   "
      ]
    },
    {
      "cell_type": "markdown",
      "metadata": {
        "id": "N9LaqX8cjdwz",
        "colab_type": "text"
      },
      "source": [
        "<a id=\"item41\"></a>"
      ]
    },
    {
      "cell_type": "markdown",
      "metadata": {
        "id": "HkqRhGIyjdw0",
        "colab_type": "text"
      },
      "source": [
        "## Download Data"
      ]
    },
    {
      "cell_type": "markdown",
      "metadata": {
        "id": "0tkimM-Fjdw5",
        "colab_type": "text"
      },
      "source": [
        "Use the <code>wget</code> command to download the data for this assignment from here: https://s3-api.us-geo.objectstorage.softlayer.net/cf-courses-data/CognitiveClass/DL0321EN/data/concrete_data_week4.zip"
      ]
    },
    {
      "cell_type": "markdown",
      "metadata": {
        "id": "r9d2bEpojdw7",
        "colab_type": "text"
      },
      "source": [
        "Use the following cells to download the data."
      ]
    },
    {
      "cell_type": "code",
      "metadata": {
        "id": "COD8MsB_jdw-",
        "colab_type": "code",
        "colab": {
          "base_uri": "https://localhost:8080/",
          "height": 239
        },
        "outputId": "70c7c8a5-1ec6-46c5-ea46-fdd83fc5bccf"
      },
      "source": [
        "!wget https://s3-api.us-geo.objectstorage.softlayer.net/cf-courses-data/CognitiveClass/DL0321EN/data/concrete_data_week4.zip "
      ],
      "execution_count": 100,
      "outputs": [
        {
          "output_type": "stream",
          "text": [
            "--2020-09-03 22:25:38--  https://s3-api.us-geo.objectstorage.softlayer.net/cf-courses-data/CognitiveClass/DL0321EN/data/concrete_data_week4.zip\n",
            "Resolving s3-api.us-geo.objectstorage.softlayer.net (s3-api.us-geo.objectstorage.softlayer.net)... 67.228.254.196\n",
            "Connecting to s3-api.us-geo.objectstorage.softlayer.net (s3-api.us-geo.objectstorage.softlayer.net)|67.228.254.196|:443... connected.\n",
            "HTTP request sent, awaiting response... 200 OK\n",
            "Length: 261483817 (249M) [application/zip]\n",
            "Saving to: ‘concrete_data_week4.zip.2’\n",
            "\n",
            "concrete_data_week4 100%[===================>] 249.37M  33.3MB/s    in 8.0s    \n",
            "\n",
            "2020-09-03 22:25:47 (31.3 MB/s) - ‘concrete_data_week4.zip.2’ saved [261483817/261483817]\n",
            "\n"
          ],
          "name": "stdout"
        }
      ]
    },
    {
      "cell_type": "code",
      "metadata": {
        "id": "QNNyvzYVjdxJ",
        "colab_type": "code",
        "colab": {
          "base_uri": "https://localhost:8080/",
          "height": 54
        },
        "outputId": "4acaf2fa-ec7e-4a4b-c9f2-ad220091d470"
      },
      "source": [
        "!unzip concrete_data_week4.zip "
      ],
      "execution_count": 101,
      "outputs": [
        {
          "output_type": "stream",
          "text": [
            "Archive:  concrete_data_week4.zip\n",
            "replace concrete_data_week4/valid/positive/16679_1.jpg? [y]es, [n]o, [A]ll, [N]one, [r]ename: "
          ],
          "name": "stdout"
        }
      ]
    },
    {
      "cell_type": "markdown",
      "metadata": {
        "id": "p9woFNPwjdxR",
        "colab_type": "text"
      },
      "source": [
        "After you unzip the data, you fill find the data has already been divided into a train, validation, and test sets."
      ]
    },
    {
      "cell_type": "markdown",
      "metadata": {
        "id": "UDO7Xn0ujdxS",
        "colab_type": "text"
      },
      "source": [
        "  "
      ]
    },
    {
      "cell_type": "markdown",
      "metadata": {
        "button": false,
        "deletable": true,
        "new_sheet": false,
        "run_control": {
          "read_only": false
        },
        "id": "hqoAlC29jdxU",
        "colab_type": "text"
      },
      "source": [
        "<a id=\"item42\"></a>"
      ]
    },
    {
      "cell_type": "markdown",
      "metadata": {
        "id": "6voWb6ebjdxW",
        "colab_type": "text"
      },
      "source": [
        "## Part 1"
      ]
    },
    {
      "cell_type": "markdown",
      "metadata": {
        "id": "mPdONMKDjdxW",
        "colab_type": "text"
      },
      "source": [
        "In this part, you will design a classifier using the VGG16 pre-trained model. Just like the ResNet50 model, you can import the model <code>VGG16</code> from <code>keras.applications</code>."
      ]
    },
    {
      "cell_type": "markdown",
      "metadata": {
        "id": "FF1cRiWjjdxY",
        "colab_type": "text"
      },
      "source": [
        "You will essentially build your classifier as follows:\n",
        "1. Import libraries, modules, and packages you will need. Make sure to import the *preprocess_input* function from <code>keras.applications.vgg16</code>.\n",
        "2. Use a batch size of 100 images for both training and validation.\n",
        "3. Construct an ImageDataGenerator for the training set and another one for the validation set. VGG16 was originally trained on 224 × 224 images, so make sure to address that when defining the ImageDataGenerator instances.\n",
        "4. Create a sequential model using Keras. Add VGG16 model to it and dense layer.\n",
        "5. Compile the mode using the adam optimizer and the categorical_crossentropy loss function.\n",
        "6. Fit the model on the augmented data using the ImageDataGenerators."
      ]
    },
    {
      "cell_type": "markdown",
      "metadata": {
        "id": "3vJth-Izjdxa",
        "colab_type": "text"
      },
      "source": [
        "Use the following cells to create your classifier."
      ]
    },
    {
      "cell_type": "code",
      "metadata": {
        "id": "MDsBj6mYjdxc",
        "colab_type": "code",
        "colab": {}
      },
      "source": [
        "from keras.preprocessing.image import ImageDataGenerator"
      ],
      "execution_count": 142,
      "outputs": []
    },
    {
      "cell_type": "code",
      "metadata": {
        "id": "CQkfbk-zjdxk",
        "colab_type": "code",
        "colab": {}
      },
      "source": [
        "import keras\n",
        "from keras.models import Sequential\n",
        "from keras.layers import Dense"
      ],
      "execution_count": 143,
      "outputs": []
    },
    {
      "cell_type": "code",
      "metadata": {
        "scrolled": true,
        "id": "xDDbukkIjdxp",
        "colab_type": "code",
        "colab": {}
      },
      "source": [
        "from keras.applications import VGG16\n",
        "from keras.applications.vgg16 import preprocess_input"
      ],
      "execution_count": 144,
      "outputs": []
    },
    {
      "cell_type": "code",
      "metadata": {
        "id": "0woY11Lljdxv",
        "colab_type": "code",
        "colab": {}
      },
      "source": [
        "num_classes = 2\n",
        "\n",
        "image_resize = 224\n",
        "\n",
        "batch_size_training = 100\n",
        "batch_size_validation = 100\n",
        "batch_size_test = 100"
      ],
      "execution_count": 165,
      "outputs": []
    },
    {
      "cell_type": "code",
      "metadata": {
        "id": "3MbusAEjjdx1",
        "colab_type": "code",
        "colab": {}
      },
      "source": [
        "data_generator = ImageDataGenerator(\n",
        "    preprocessing_function=preprocess_input,\n",
        ")"
      ],
      "execution_count": 166,
      "outputs": []
    },
    {
      "cell_type": "code",
      "metadata": {
        "id": "fI4ld7H9jdx8",
        "colab_type": "code",
        "colab": {
          "base_uri": "https://localhost:8080/",
          "height": 35
        },
        "outputId": "80a10250-20d7-46d1-ac7c-fdce217d9fbb"
      },
      "source": [
        "train_generator = data_generator.flow_from_directory(\n",
        "    'concrete_data_week4/train',\n",
        "    target_size=(image_resize, image_resize),\n",
        "    batch_size=batch_size_training,\n",
        "    class_mode='categorical')"
      ],
      "execution_count": 147,
      "outputs": [
        {
          "output_type": "stream",
          "text": [
            "Found 30001 images belonging to 2 classes.\n"
          ],
          "name": "stdout"
        }
      ]
    },
    {
      "cell_type": "code",
      "metadata": {
        "id": "54CHqi1AjdyB",
        "colab_type": "code",
        "colab": {
          "base_uri": "https://localhost:8080/",
          "height": 35
        },
        "outputId": "874c0087-05b8-4351-b4e6-644d342ad1d5"
      },
      "source": [
        "validation_generator = data_generator.flow_from_directory(\n",
        "    'concrete_data_week4/valid',\n",
        "    target_size=(image_resize, image_resize),\n",
        "    batch_size=batch_size_validation,\n",
        "    class_mode='categorical')"
      ],
      "execution_count": 148,
      "outputs": [
        {
          "output_type": "stream",
          "text": [
            "Found 9501 images belonging to 2 classes.\n"
          ],
          "name": "stdout"
        }
      ]
    },
    {
      "cell_type": "code",
      "metadata": {
        "id": "RFJ1OYqGVhqp",
        "colab_type": "code",
        "colab": {
          "base_uri": "https://localhost:8080/",
          "height": 35
        },
        "outputId": "d31bc5cc-3b0a-4d3e-e02b-f00868d5b178"
      },
      "source": [
        "test_generatorvgg = data_generator.flow_from_directory(\n",
        "    'concrete_data_week4/test',\n",
        "    target_size=(image_resize, image_resize),\n",
        "    batch_size=batch_size_test,\n",
        "    class_mode='categorical') \n"
      ],
      "execution_count": 167,
      "outputs": [
        {
          "output_type": "stream",
          "text": [
            "Found 500 images belonging to 2 classes.\n"
          ],
          "name": "stdout"
        }
      ]
    },
    {
      "cell_type": "code",
      "metadata": {
        "id": "R0MWk2H0jdyG",
        "colab_type": "code",
        "colab": {}
      },
      "source": [
        "model = Sequential()"
      ],
      "execution_count": 168,
      "outputs": []
    },
    {
      "cell_type": "code",
      "metadata": {
        "id": "uYRGcS2xjdyO",
        "colab_type": "code",
        "colab": {}
      },
      "source": [
        "model.add(VGG16(\n",
        "    include_top=False,\n",
        "    pooling='avg',\n",
        "    weights='imagenet',\n",
        "    ))"
      ],
      "execution_count": 169,
      "outputs": []
    },
    {
      "cell_type": "code",
      "metadata": {
        "id": "7eINHrunjdyS",
        "colab_type": "code",
        "colab": {}
      },
      "source": [
        "model.add(Dense(num_classes, activation='softmax'))"
      ],
      "execution_count": 170,
      "outputs": []
    },
    {
      "cell_type": "code",
      "metadata": {
        "id": "5a2KtsfkjdyY",
        "colab_type": "code",
        "colab": {
          "base_uri": "https://localhost:8080/",
          "height": 54
        },
        "outputId": "497ae3d8-e9d9-40d1-b61c-233380578426"
      },
      "source": [
        "model.layers"
      ],
      "execution_count": 171,
      "outputs": [
        {
          "output_type": "execute_result",
          "data": {
            "text/plain": [
              "[<tensorflow.python.keras.engine.functional.Functional at 0x7f197bee4ef0>,\n",
              " <tensorflow.python.keras.layers.core.Dense at 0x7f197beebac8>]"
            ]
          },
          "metadata": {
            "tags": []
          },
          "execution_count": 171
        }
      ]
    },
    {
      "cell_type": "code",
      "metadata": {
        "id": "G6VRR0r8ka7a",
        "colab_type": "code",
        "colab": {}
      },
      "source": [
        "model.layers[0].trainable = False"
      ],
      "execution_count": 172,
      "outputs": []
    },
    {
      "cell_type": "code",
      "metadata": {
        "id": "e2PtRM0ikdT6",
        "colab_type": "code",
        "colab": {
          "base_uri": "https://localhost:8080/",
          "height": 237
        },
        "outputId": "5fd505a4-a9b1-46c6-cca4-93429d16dc73"
      },
      "source": [
        "model.summary()"
      ],
      "execution_count": 173,
      "outputs": [
        {
          "output_type": "stream",
          "text": [
            "Model: \"sequential_17\"\n",
            "_________________________________________________________________\n",
            "Layer (type)                 Output Shape              Param #   \n",
            "=================================================================\n",
            "vgg16 (Functional)           (None, 512)               14714688  \n",
            "_________________________________________________________________\n",
            "dense_22 (Dense)             (None, 2)                 1026      \n",
            "=================================================================\n",
            "Total params: 14,715,714\n",
            "Trainable params: 1,026\n",
            "Non-trainable params: 14,714,688\n",
            "_________________________________________________________________\n"
          ],
          "name": "stdout"
        }
      ]
    },
    {
      "cell_type": "code",
      "metadata": {
        "id": "J2pZ6QQJkgNC",
        "colab_type": "code",
        "colab": {}
      },
      "source": [
        "model.compile(optimizer='adam', loss='categorical_crossentropy', metrics=['accuracy'])"
      ],
      "execution_count": 174,
      "outputs": []
    },
    {
      "cell_type": "code",
      "metadata": {
        "id": "NU9y3dq8kkGC",
        "colab_type": "code",
        "colab": {}
      },
      "source": [
        "steps_per_epoch_training = len(train_generator)\n",
        "steps_per_epoch_validation = len(validation_generator)\n",
        "num_epochs = 2"
      ],
      "execution_count": 175,
      "outputs": []
    },
    {
      "cell_type": "code",
      "metadata": {
        "id": "b_ZiP1PmkkPm",
        "colab_type": "code",
        "colab": {
          "base_uri": "https://localhost:8080/",
          "height": 110
        },
        "outputId": "f0d84a1a-c10b-4863-b7fc-edf7c51e1aa1"
      },
      "source": [
        "fit_history = model.fit_generator(\n",
        "    train_generator,\n",
        "    steps_per_epoch=steps_per_epoch_training,\n",
        "    epochs=num_epochs,\n",
        "    validation_data=validation_generator,\n",
        "    validation_steps=steps_per_epoch_validation,\n",
        "    verbose=1,\n",
        ")"
      ],
      "execution_count": 157,
      "outputs": [
        {
          "output_type": "stream",
          "text": [
            "Epoch 1/2\n",
            "301/301 [==============================] - 161s 535ms/step - loss: 0.1107 - accuracy: 0.9594 - val_loss: 0.0269 - val_accuracy: 0.9947\n",
            "Epoch 2/2\n",
            "301/301 [==============================] - 160s 531ms/step - loss: 0.0203 - accuracy: 0.9953 - val_loss: 0.0151 - val_accuracy: 0.9959\n"
          ],
          "name": "stdout"
        }
      ]
    },
    {
      "cell_type": "code",
      "metadata": {
        "id": "wZdHn5-lWtdq",
        "colab_type": "code",
        "colab": {
          "base_uri": "https://localhost:8080/",
          "height": 90
        },
        "outputId": "249591cc-e5fc-47b2-d02f-52e36b8866f8"
      },
      "source": [
        "fit_history = model.fit_generator(\n",
        "    test_generatorvgg,\n",
        "    steps_per_epoch=steps_per_epoch_test,\n",
        "    epochs=num_epochs,\n",
        "    verbose=1,\n",
        ")"
      ],
      "execution_count": 176,
      "outputs": [
        {
          "output_type": "stream",
          "text": [
            "Epoch 1/2\n",
            "5/5 [==============================] - 2s 332ms/step - loss: 1.0599 - accuracy: 0.5100\n",
            "Epoch 2/2\n",
            "5/5 [==============================] - 2s 335ms/step - loss: 0.7044 - accuracy: 0.5920\n"
          ],
          "name": "stdout"
        }
      ]
    },
    {
      "cell_type": "code",
      "metadata": {
        "id": "RN0Yiau6VOKq",
        "colab_type": "code",
        "colab": {
          "base_uri": "https://localhost:8080/",
          "height": 135
        },
        "outputId": "bf0243a2-6d08-4fc9-ed3b-82eb18f8377b"
      },
      "source": [
        "fit_history = model.fit_generator)\n",
        "  test_generator_2"
      ],
      "execution_count": 177,
      "outputs": [
        {
          "output_type": "error",
          "ename": "SyntaxError",
          "evalue": "ignored",
          "traceback": [
            "\u001b[0;36m  File \u001b[0;32m\"<ipython-input-177-fb50ddab7e59>\"\u001b[0;36m, line \u001b[0;32m1\u001b[0m\n\u001b[0;31m    fit_history = model.fit_generator)\u001b[0m\n\u001b[0m                                     ^\u001b[0m\n\u001b[0;31mSyntaxError\u001b[0m\u001b[0;31m:\u001b[0m invalid syntax\n"
          ]
        }
      ]
    },
    {
      "cell_type": "code",
      "metadata": {
        "id": "yKbraS-jpXwY",
        "colab_type": "code",
        "colab": {}
      },
      "source": [
        "model.save('classifier_vgg16_model.h5')"
      ],
      "execution_count": 25,
      "outputs": []
    },
    {
      "cell_type": "markdown",
      "metadata": {
        "id": "EFIkrejTjdyd",
        "colab_type": "text"
      },
      "source": [
        "   "
      ]
    },
    {
      "cell_type": "markdown",
      "metadata": {
        "id": "GiEL4uqFjdye",
        "colab_type": "text"
      },
      "source": [
        "<a id=\"item43\"></a>"
      ]
    },
    {
      "cell_type": "markdown",
      "metadata": {
        "id": "e869rrJcjdyf",
        "colab_type": "text"
      },
      "source": [
        "## Part 2"
      ]
    },
    {
      "cell_type": "markdown",
      "metadata": {
        "id": "8GGattQajdyg",
        "colab_type": "text"
      },
      "source": [
        "In this part, you will evaluate your deep learning models on a test data. For this part, you will need to do the following:\n",
        "\n",
        "1. Load your saved model that was built using the ResNet50 model. \n",
        "2. Construct an ImageDataGenerator for the test set. For this ImageDataGenerator instance, you only need to pass the directory of the test images, target size, and the **shuffle** parameter and set it to False.\n",
        "3. Use the **evaluate_generator** method to evaluate your models on the test data, by passing the above ImageDataGenerator as an argument. You can learn more about **evaluate_generator** [here](https://keras.io/models/sequential/).\n",
        "4. Print the performance of the classifier using the VGG16 pre-trained model.\n",
        "5. Print the performance of the classifier using the ResNet pre-trained model.\n"
      ]
    },
    {
      "cell_type": "markdown",
      "metadata": {
        "id": "L6w-itvEjdyg",
        "colab_type": "text"
      },
      "source": [
        "Use the following cells to evaluate your models."
      ]
    },
    {
      "cell_type": "code",
      "metadata": {
        "id": "IUS0l-entNA7",
        "colab_type": "code",
        "colab": {}
      },
      "source": [
        "from keras.models import load_model\n",
        "\n",
        "pretrained_model = load_model('classifier_resnet_modeltest.h5')"
      ],
      "execution_count": 158,
      "outputs": []
    },
    {
      "cell_type": "code",
      "metadata": {
        "id": "Yyq344P_8l1k",
        "colab_type": "code",
        "colab": {
          "base_uri": "https://localhost:8080/",
          "height": 35
        },
        "outputId": "72588937-8640-486c-f048-dd5fb2405351"
      },
      "source": [
        "test_generator = data_generator.flow_from_directory(\n",
        "    'concrete_data_week4/test',\n",
        "    target_size=(image_resize, image_resize),\n",
        "    shuffle=False,\n",
        "    class_mode='categorical')"
      ],
      "execution_count": 159,
      "outputs": [
        {
          "output_type": "stream",
          "text": [
            "Found 500 images belonging to 2 classes.\n"
          ],
          "name": "stdout"
        }
      ]
    },
    {
      "cell_type": "code",
      "metadata": {
        "id": "VCNJ_VNPJuu1",
        "colab_type": "code",
        "colab": {
          "base_uri": "https://localhost:8080/",
          "height": 54
        },
        "outputId": "4d2f88eb-db93-49ea-ae5a-9c38085613be"
      },
      "source": [
        "scores = model.evaluate(test_generatorvgg, verbose=0)\n",
        "print(\"VGG16 Test Accuracy: {} \\n VGG16 Error: {}\".format(scores[1], 100-scores[1]*100))"
      ],
      "execution_count": 178,
      "outputs": [
        {
          "output_type": "stream",
          "text": [
            "VGG16 Test Accuracy: 0.6600000262260437 \n",
            " VGG16 Error: 33.99999737739563\n"
          ],
          "name": "stdout"
        }
      ]
    },
    {
      "cell_type": "code",
      "metadata": {
        "id": "ALuNbalk-Yh8",
        "colab_type": "code",
        "colab": {
          "base_uri": "https://localhost:8080/",
          "height": 54
        },
        "outputId": "14107794-2ce6-4c04-d807-9282c299028f"
      },
      "source": [
        "scores = model.evaluate(test_generator, verbose=0)\n",
        "print(\"ResNet50 Accuracy: {} \\n ResNet50 Error: {}\".format(scores[1], 100-scores[1]*100))"
      ],
      "execution_count": 179,
      "outputs": [
        {
          "output_type": "stream",
          "text": [
            "ResNet50 Accuracy: 0.6600000262260437 \n",
            " ResNet50 Error: 33.99999737739563\n"
          ],
          "name": "stdout"
        }
      ]
    },
    {
      "cell_type": "code",
      "metadata": {
        "id": "ol31V-4QHMDE",
        "colab_type": "code",
        "colab": {
          "base_uri": "https://localhost:8080/",
          "height": 54
        },
        "outputId": "5bec4286-c9f3-48d5-c46e-cf7718c20a82"
      },
      "source": [
        "scores = model.evaluate(train_generator, verbose=0)\n",
        "print(\"VGG16 Train Accuracy: {} \\n Error: {}\".format(scores[1], 100-scores[1]*100))"
      ],
      "execution_count": 163,
      "outputs": [
        {
          "output_type": "stream",
          "text": [
            "VGG16 Train Accuracy: 0.9960668087005615 \n",
            " Error: 0.39331912994384766\n"
          ],
          "name": "stdout"
        }
      ]
    },
    {
      "cell_type": "code",
      "metadata": {
        "id": "Rmk56eTLHw6C",
        "colab_type": "code",
        "colab": {
          "base_uri": "https://localhost:8080/",
          "height": 54
        },
        "outputId": "d81921bf-7870-4b73-b89d-cfdfae60fd7d"
      },
      "source": [
        "scores = model.evaluate(validation_generator, verbose=0)\n",
        "print(\"VGG16 validation Accuracy: {} \\n Error: {}\".format(scores[1], 100-scores[1]*100))"
      ],
      "execution_count": 164,
      "outputs": [
        {
          "output_type": "stream",
          "text": [
            "VGG16 validation Accuracy: 0.9958951473236084 \n",
            " Error: 0.41048526763916016\n"
          ],
          "name": "stdout"
        }
      ]
    },
    {
      "cell_type": "markdown",
      "metadata": {
        "id": "vX7tMKYbjdy4",
        "colab_type": "text"
      },
      "source": [
        "   "
      ]
    },
    {
      "cell_type": "markdown",
      "metadata": {
        "id": "Qu7dgorHjdy5",
        "colab_type": "text"
      },
      "source": [
        "<a id=\"item44\"></a>"
      ]
    },
    {
      "cell_type": "markdown",
      "metadata": {
        "id": "VNEHYyiljdy7",
        "colab_type": "text"
      },
      "source": [
        "## Part 3"
      ]
    },
    {
      "cell_type": "markdown",
      "metadata": {
        "id": "gQWG8LTzjdy8",
        "colab_type": "text"
      },
      "source": [
        "In this model, you will predict whether the images in the test data are images of cracked concrete or not. You will do the following:\n",
        "\n",
        "1. Use the **predict_generator** method to predict the class of the images in the test data, by passing the test data ImageDataGenerator instance defined in the previous part as an argument. You can learn more about the **predict_generator** method [here](https://keras.io/models/sequential/).\n",
        "2. Report the class predictions of the first five images in the test set. You should print something list this:\n",
        "\n",
        "<center>\n",
        "    <ul style=\"list-style-type:none\">\n",
        "        <li>Positive</li>  \n",
        "        <li>Negative</li> \n",
        "        <li>Positive</li>\n",
        "        <li>Positive</li>\n",
        "        <li>Negative</li>\n",
        "    </ul>\n",
        "</center>"
      ]
    },
    {
      "cell_type": "markdown",
      "metadata": {
        "id": "XYoVNBRMjdy8",
        "colab_type": "text"
      },
      "source": [
        "Use the following cells to make your predictions."
      ]
    },
    {
      "cell_type": "code",
      "metadata": {
        "id": "6z0VV1J9jdy9",
        "colab_type": "code",
        "colab": {
          "base_uri": "https://localhost:8080/",
          "height": 35
        },
        "outputId": "95acf6ab-29af-41ee-b80a-da4e796408d3"
      },
      "source": [
        "model = tf.keras.Sequential()\n",
        "model.add(tf.keras.layers.Dense(8))\n",
        "model.add(tf.keras.layers.Dense(4))\n",
        "model.build((None, 16))\n",
        "len(model.weights)\n"
      ],
      "execution_count": 127,
      "outputs": [
        {
          "output_type": "execute_result",
          "data": {
            "text/plain": [
              "4"
            ]
          },
          "metadata": {
            "tags": []
          },
          "execution_count": 127
        }
      ]
    },
    {
      "cell_type": "code",
      "metadata": {
        "id": "Y96fBGGvK-dj",
        "colab_type": "code",
        "colab": {
          "base_uri": "https://localhost:8080/",
          "height": 1000
        },
        "outputId": "3e667d22-d063-4be9-ec48-5332ceda6bc6"
      },
      "source": [
        "model = tf.keras.Sequential()\n",
        "model.add(tf.keras.layers.Dense(8))\n",
        "model.add(tf.keras.layers.Dense(1))\n",
        "model.compile(optimizer='sgd', loss='mse')\n",
        "\n",
        "model.predict_generator(test_generator)"
      ],
      "execution_count": 130,
      "outputs": [
        {
          "output_type": "execute_result",
          "data": {
            "text/plain": [
              "array([[[[61.38589  ],\n",
              "         [60.80903  ],\n",
              "         [61.38589  ],\n",
              "         ...,\n",
              "         [62.9345   ],\n",
              "         [62.357628 ],\n",
              "         [61.780758 ]],\n",
              "\n",
              "        [[60.80903  ],\n",
              "         [60.80903  ],\n",
              "         [61.38589  ],\n",
              "         ...,\n",
              "         [62.357628 ],\n",
              "         [61.780758 ],\n",
              "         [61.20388  ]],\n",
              "\n",
              "        [[60.80903  ],\n",
              "         [60.80903  ],\n",
              "         [61.962776 ],\n",
              "         ...,\n",
              "         [61.780758 ],\n",
              "         [61.20388  ],\n",
              "         [60.627007 ]],\n",
              "\n",
              "        ...,\n",
              "\n",
              "        [[53.127632 ],\n",
              "         [51.973877 ],\n",
              "         [54.281372 ],\n",
              "         ...,\n",
              "         [59.72264  ],\n",
              "         [59.72264  ],\n",
              "         [59.72264  ]],\n",
              "\n",
              "        [[53.127632 ],\n",
              "         [51.973877 ],\n",
              "         [54.281372 ],\n",
              "         ...,\n",
              "         [61.45327  ],\n",
              "         [61.45327  ],\n",
              "         [61.45327  ]],\n",
              "\n",
              "        [[53.127632 ],\n",
              "         [51.973877 ],\n",
              "         [54.281372 ],\n",
              "         ...,\n",
              "         [62.03014  ],\n",
              "         [62.03014  ],\n",
              "         [62.03014  ]]],\n",
              "\n",
              "\n",
              "       [[[55.958015 ],\n",
              "         [56.534885 ],\n",
              "         [57.111755 ],\n",
              "         ...,\n",
              "         [30.89763  ],\n",
              "         [34.935757 ],\n",
              "         [39.550755 ]],\n",
              "\n",
              "        [[56.534885 ],\n",
              "         [56.534885 ],\n",
              "         [55.958015 ],\n",
              "         ...,\n",
              "         [36.089504 ],\n",
              "         [39.550755 ],\n",
              "         [43.58888  ]],\n",
              "\n",
              "        [[59.41926  ],\n",
              "         [58.26551  ],\n",
              "         [56.534885 ],\n",
              "         ...,\n",
              "         [38.397007 ],\n",
              "         [41.281372 ],\n",
              "         [44.165756 ]],\n",
              "\n",
              "        ...,\n",
              "\n",
              "        [[51.53173  ],\n",
              "         [50.954857 ],\n",
              "         [49.224236 ],\n",
              "         ...,\n",
              "         [39.62081  ],\n",
              "         [41.351437 ],\n",
              "         [43.082054 ]],\n",
              "\n",
              "        [[56.146736 ],\n",
              "         [54.99299  ],\n",
              "         [52.108612 ],\n",
              "         ...,\n",
              "         [33.85206  ],\n",
              "         [35.582684 ],\n",
              "         [37.89019  ]],\n",
              "\n",
              "        [[60.761753 ],\n",
              "         [59.607998 ],\n",
              "         [56.146736 ],\n",
              "         ...,\n",
              "         [29.237059 ],\n",
              "         [30.967682 ],\n",
              "         [32.69831  ]]],\n",
              "\n",
              "\n",
              "       [[[44.165756 ],\n",
              "         [47.627018 ],\n",
              "         [50.511387 ],\n",
              "         ...,\n",
              "         [49.35764  ],\n",
              "         [51.08825  ],\n",
              "         [53.395756 ]],\n",
              "\n",
              "        [[49.93451  ],\n",
              "         [51.665127 ],\n",
              "         [53.395756 ],\n",
              "         ...,\n",
              "         [50.511387 ],\n",
              "         [52.24201  ],\n",
              "         [54.549503 ]],\n",
              "\n",
              "        [[54.549503 ],\n",
              "         [53.972633 ],\n",
              "         [53.395756 ],\n",
              "         ...,\n",
              "         [53.972633 ],\n",
              "         [55.12638  ],\n",
              "         [56.280125 ]],\n",
              "\n",
              "        ...,\n",
              "\n",
              "        [[55.958015 ],\n",
              "         [54.227394 ],\n",
              "         [51.91989  ],\n",
              "         ...,\n",
              "         [42.549774 ],\n",
              "         [44.280403 ],\n",
              "         [46.011032 ]],\n",
              "\n",
              "        [[53.65052  ],\n",
              "         [52.49677  ],\n",
              "         [50.76612  ],\n",
              "         ...,\n",
              "         [51.202904 ],\n",
              "         [52.93353  ],\n",
              "         [55.241035 ]],\n",
              "\n",
              "        [[51.91989  ],\n",
              "         [50.76612  ],\n",
              "         [49.03551  ],\n",
              "         ...,\n",
              "         [58.70228  ],\n",
              "         [60.432907 ],\n",
              "         [62.16354  ]]],\n",
              "\n",
              "\n",
              "       ...,\n",
              "\n",
              "\n",
              "       [[[50.70414  ],\n",
              "         [50.127254 ],\n",
              "         [50.70414  ],\n",
              "         ...,\n",
              "         [42.76666  ],\n",
              "         [43.34352  ],\n",
              "         [43.920403 ]],\n",
              "\n",
              "        [[50.70414  ],\n",
              "         [50.70414  ],\n",
              "         [50.70414  ],\n",
              "         ...,\n",
              "         [43.920403 ],\n",
              "         [44.497276 ],\n",
              "         [45.074154 ]],\n",
              "\n",
              "        [[51.281017 ],\n",
              "         [50.70414  ],\n",
              "         [50.127254 ],\n",
              "         ...,\n",
              "         [45.074154 ],\n",
              "         [45.074154 ],\n",
              "         [45.65103  ]],\n",
              "\n",
              "        ...,\n",
              "\n",
              "        [[43.78164  ],\n",
              "         [43.20476  ],\n",
              "         [43.20476  ],\n",
              "         ...,\n",
              "         [43.920403 ],\n",
              "         [43.920403 ],\n",
              "         [43.920403 ]],\n",
              "\n",
              "        [[43.78164  ],\n",
              "         [43.20476  ],\n",
              "         [43.20476  ],\n",
              "         ...,\n",
              "         [43.920403 ],\n",
              "         [43.920403 ],\n",
              "         [43.920403 ]],\n",
              "\n",
              "        [[43.78164  ],\n",
              "         [43.20476  ],\n",
              "         [43.20476  ],\n",
              "         ...,\n",
              "         [43.920403 ],\n",
              "         [43.920403 ],\n",
              "         [43.920403 ]]],\n",
              "\n",
              "\n",
              "       [[[ 2.7534513],\n",
              "         [ 3.9072018],\n",
              "         [ 5.6378264],\n",
              "         ...,\n",
              "         [ 8.015381 ],\n",
              "         [ 7.438504 ],\n",
              "         [ 7.438504 ]],\n",
              "\n",
              "        [[ 3.330326 ],\n",
              "         [ 4.4840755],\n",
              "         [ 5.6378264],\n",
              "         ...,\n",
              "         [ 6.8616295],\n",
              "         [ 6.2847548],\n",
              "         [ 6.2847548]],\n",
              "\n",
              "        [[ 4.4840755],\n",
              "         [ 5.0609517],\n",
              "         [ 5.0609517],\n",
              "         ...,\n",
              "         [ 5.7078805],\n",
              "         [ 5.131006 ],\n",
              "         [ 5.131006 ]],\n",
              "\n",
              "        ...,\n",
              "\n",
              "        [[ 8.803762 ],\n",
              "         [ 9.957509 ],\n",
              "         [ 8.803762 ],\n",
              "         ...,\n",
              "         [ 9.307898 ],\n",
              "         [ 8.73102  ],\n",
              "         [ 8.154145 ]],\n",
              "\n",
              "        [[ 8.803762 ],\n",
              "         [ 9.957509 ],\n",
              "         [ 8.803762 ],\n",
              "         ...,\n",
              "         [10.461647 ],\n",
              "         [ 9.884772 ],\n",
              "         [ 9.307898 ]],\n",
              "\n",
              "        [[ 8.803762 ],\n",
              "         [ 9.380636 ],\n",
              "         [ 8.803762 ],\n",
              "         ...,\n",
              "         [11.6153965],\n",
              "         [11.6153965],\n",
              "         [11.038521 ]]],\n",
              "\n",
              "\n",
              "       [[[ 3.330326 ],\n",
              "         [ 3.330326 ],\n",
              "         [ 6.791576 ],\n",
              "         ...,\n",
              "         [11.265127 ],\n",
              "         [ 8.957626 ],\n",
              "         [ 6.6501255]],\n",
              "\n",
              "        [[ 4.4840755],\n",
              "         [ 4.4840755],\n",
              "         [ 6.791576 ],\n",
              "         ...,\n",
              "         [ 9.534502 ],\n",
              "         [ 7.803876 ],\n",
              "         [ 6.0732517]],\n",
              "\n",
              "        [[ 6.2147017],\n",
              "         [ 5.0609517],\n",
              "         [ 6.791576 ],\n",
              "         ...,\n",
              "         [ 9.534502 ],\n",
              "         [ 8.380752 ],\n",
              "         [ 6.6501255]],\n",
              "\n",
              "        ...,\n",
              "\n",
              "        [[13.572626 ],\n",
              "         [11.842004 ],\n",
              "         [ 8.380752 ],\n",
              "         ...,\n",
              "         [13.572626 ],\n",
              "         [13.572626 ],\n",
              "         [13.572626 ]],\n",
              "\n",
              "        [[11.842004 ],\n",
              "         [10.111378 ],\n",
              "         [ 7.803876 ],\n",
              "         ...,\n",
              "         [14.7263775],\n",
              "         [14.7263775],\n",
              "         [14.7263775]],\n",
              "\n",
              "        [[ 8.957626 ],\n",
              "         [ 7.803876 ],\n",
              "         [ 6.6501255],\n",
              "         ...,\n",
              "         [16.457003 ],\n",
              "         [16.457003 ],\n",
              "         [16.457003 ]]]], dtype=float32)"
            ]
          },
          "metadata": {
            "tags": []
          },
          "execution_count": 130
        }
      ]
    },
    {
      "cell_type": "code",
      "metadata": {
        "id": "usPcx8WlO8-p",
        "colab_type": "code",
        "colab": {}
      },
      "source": [
        "dataset_dir = './concrete_data_week4'"
      ],
      "execution_count": 132,
      "outputs": []
    },
    {
      "cell_type": "code",
      "metadata": {
        "id": "VfCyhMiWjdzD",
        "colab_type": "code",
        "colab": {
          "base_uri": "https://localhost:8080/",
          "height": 35
        },
        "outputId": "6c8546e3-1a3b-41df-9255-70887dee0efa"
      },
      "source": [
        "predict_generator = data_generator.flow_from_directory(\n",
        "    dataset_dir,\n",
        "    batch_size=5,\n",
        "    class_mode='categorical',\n",
        "    seed=24\n",
        "    )"
      ],
      "execution_count": 133,
      "outputs": [
        {
          "output_type": "stream",
          "text": [
            "Found 40002 images belonging to 3 classes.\n"
          ],
          "name": "stdout"
        }
      ]
    },
    {
      "cell_type": "code",
      "metadata": {
        "id": "cW4abIJ8jdzH",
        "colab_type": "code",
        "colab": {
          "base_uri": "https://localhost:8080/",
          "height": 1000
        },
        "outputId": "0ae36588-9ef9-4b24-8286-26d55f0ce703"
      },
      "source": [
        "first_batch = predict_generator.next()\n",
        "first_batch"
      ],
      "execution_count": 136,
      "outputs": [
        {
          "output_type": "execute_result",
          "data": {
            "text/plain": [
              "(array([[[[67.061   , 57.221   , 54.32    ],\n",
              "          [70.061   , 60.221   , 57.32    ],\n",
              "          [74.061   , 64.221   , 61.32    ],\n",
              "          ...,\n",
              "          [67.061   , 59.221   , 51.32    ],\n",
              "          [67.061   , 59.221   , 51.32    ],\n",
              "          [67.061   , 59.221   , 51.32    ]],\n",
              " \n",
              "         [[64.061   , 54.221   , 51.32    ],\n",
              "          [67.061   , 57.221   , 54.32    ],\n",
              "          [71.061   , 61.221   , 58.32    ],\n",
              "          ...,\n",
              "          [66.061   , 58.221   , 50.32    ],\n",
              "          [66.061   , 58.221   , 50.32    ],\n",
              "          [66.061   , 58.221   , 50.32    ]],\n",
              " \n",
              "         [[64.061   , 54.221   , 51.32    ],\n",
              "          [66.061   , 56.221   , 53.32    ],\n",
              "          [69.061   , 59.221   , 56.32    ],\n",
              "          ...,\n",
              "          [67.061   , 59.221   , 51.32    ],\n",
              "          [67.061   , 59.221   , 51.32    ],\n",
              "          [67.061   , 59.221   , 51.32    ]],\n",
              " \n",
              "         ...,\n",
              " \n",
              "         [[68.061   , 55.221   , 54.32    ],\n",
              "          [66.061   , 53.221   , 52.32    ],\n",
              "          [68.061   , 55.221   , 54.32    ],\n",
              "          ...,\n",
              "          [85.061   , 71.221   , 66.32    ],\n",
              "          [83.061   , 69.221   , 64.32    ],\n",
              "          [81.061   , 67.221   , 62.32    ]],\n",
              " \n",
              "         [[73.061   , 60.221   , 59.32    ],\n",
              "          [70.061   , 57.221   , 56.32    ],\n",
              "          [70.061   , 57.221   , 56.32    ],\n",
              "          ...,\n",
              "          [83.061   , 69.221   , 64.32    ],\n",
              "          [81.061   , 67.221   , 62.32    ],\n",
              "          [78.061   , 64.221   , 59.32    ]],\n",
              " \n",
              "         [[78.061   , 65.221   , 64.32    ],\n",
              "          [75.061   , 62.221   , 61.32    ],\n",
              "          [73.061   , 60.221   , 59.32    ],\n",
              "          ...,\n",
              "          [81.061   , 67.221   , 62.32    ],\n",
              "          [78.061   , 64.221   , 59.32    ],\n",
              "          [76.061   , 62.221   , 57.32    ]]],\n",
              " \n",
              " \n",
              "        [[[76.061   , 74.221   , 71.32    ],\n",
              "          [74.061   , 72.221   , 69.32    ],\n",
              "          [72.061   , 70.221   , 67.32    ],\n",
              "          ...,\n",
              "          [39.060997, 32.221   , 36.32    ],\n",
              "          [36.060997, 29.221   , 33.32    ],\n",
              "          [33.060997, 26.221   , 30.32    ]],\n",
              " \n",
              "         [[76.061   , 74.221   , 71.32    ],\n",
              "          [74.061   , 72.221   , 69.32    ],\n",
              "          [73.061   , 71.221   , 68.32    ],\n",
              "          ...,\n",
              "          [33.060997, 26.221   , 30.32    ],\n",
              "          [30.060997, 23.221   , 27.32    ],\n",
              "          [27.060997, 20.221   , 24.32    ]],\n",
              " \n",
              "         [[76.061   , 74.221   , 71.32    ],\n",
              "          [74.061   , 72.221   , 69.32    ],\n",
              "          [73.061   , 71.221   , 68.32    ],\n",
              "          ...,\n",
              "          [22.060997, 15.221001, 19.32    ],\n",
              "          [20.060997, 13.221001, 17.32    ],\n",
              "          [17.060997, 10.221001, 14.32    ]],\n",
              " \n",
              "         ...,\n",
              " \n",
              "         [[55.060997, 52.221   , 55.32    ],\n",
              "          [57.060997, 54.221   , 57.32    ],\n",
              "          [60.060997, 57.221   , 60.32    ],\n",
              "          ...,\n",
              "          [68.061   , 66.221   , 63.32    ],\n",
              "          [65.061   , 63.221   , 60.32    ],\n",
              "          [62.060997, 60.221   , 57.32    ]],\n",
              " \n",
              "         [[55.060997, 52.221   , 55.32    ],\n",
              "          [57.060997, 54.221   , 57.32    ],\n",
              "          [60.060997, 57.221   , 60.32    ],\n",
              "          ...,\n",
              "          [68.061   , 66.221   , 63.32    ],\n",
              "          [65.061   , 63.221   , 60.32    ],\n",
              "          [62.060997, 60.221   , 57.32    ]],\n",
              " \n",
              "         [[55.060997, 52.221   , 55.32    ],\n",
              "          [57.060997, 54.221   , 57.32    ],\n",
              "          [60.060997, 57.221   , 60.32    ],\n",
              "          ...,\n",
              "          [68.061   , 66.221   , 63.32    ],\n",
              "          [65.061   , 63.221   , 60.32    ],\n",
              "          [62.060997, 60.221   , 57.32    ]]],\n",
              " \n",
              " \n",
              "        [[[63.060997, 66.221   , 71.32    ],\n",
              "          [63.060997, 66.221   , 71.32    ],\n",
              "          [63.060997, 66.221   , 71.32    ],\n",
              "          ...,\n",
              "          [61.060997, 64.221   , 69.32    ],\n",
              "          [63.060997, 66.221   , 71.32    ],\n",
              "          [64.061   , 67.221   , 72.32    ]],\n",
              " \n",
              "         [[64.061   , 67.221   , 72.32    ],\n",
              "          [64.061   , 67.221   , 72.32    ],\n",
              "          [64.061   , 67.221   , 72.32    ],\n",
              "          ...,\n",
              "          [62.060997, 65.221   , 70.32    ],\n",
              "          [63.060997, 66.221   , 71.32    ],\n",
              "          [65.061   , 68.221   , 73.32    ]],\n",
              " \n",
              "         [[64.061   , 67.221   , 72.32    ],\n",
              "          [64.061   , 67.221   , 72.32    ],\n",
              "          [64.061   , 67.221   , 72.32    ],\n",
              "          ...,\n",
              "          [62.060997, 65.221   , 70.32    ],\n",
              "          [64.061   , 67.221   , 72.32    ],\n",
              "          [66.061   , 69.221   , 74.32    ]],\n",
              " \n",
              "         ...,\n",
              " \n",
              "         [[54.060997, 57.221   , 63.32    ],\n",
              "          [52.060997, 55.221   , 61.32    ],\n",
              "          [48.060997, 51.221   , 57.32    ],\n",
              "          ...,\n",
              "          [48.060997, 51.221   , 56.32    ],\n",
              "          [49.060997, 52.221   , 57.32    ],\n",
              "          [50.060997, 53.221   , 58.32    ]],\n",
              " \n",
              "         [[54.060997, 57.221   , 63.32    ],\n",
              "          [52.060997, 55.221   , 61.32    ],\n",
              "          [48.060997, 51.221   , 57.32    ],\n",
              "          ...,\n",
              "          [48.060997, 51.221   , 56.32    ],\n",
              "          [49.060997, 52.221   , 57.32    ],\n",
              "          [50.060997, 53.221   , 58.32    ]],\n",
              " \n",
              "         [[55.060997, 58.221   , 64.32    ],\n",
              "          [51.060997, 54.221   , 60.32    ],\n",
              "          [47.060997, 50.221   , 56.32    ],\n",
              "          ...,\n",
              "          [48.060997, 51.221   , 56.32    ],\n",
              "          [49.060997, 52.221   , 57.32    ],\n",
              "          [50.060997, 53.221   , 58.32    ]]],\n",
              " \n",
              " \n",
              "        [[[53.060997, 53.221   , 54.32    ],\n",
              "          [50.060997, 50.221   , 51.32    ],\n",
              "          [46.060997, 46.221   , 47.32    ],\n",
              "          ...,\n",
              "          [49.060997, 48.221   , 51.32    ],\n",
              "          [49.060997, 48.221   , 51.32    ],\n",
              "          [49.060997, 48.221   , 51.32    ]],\n",
              " \n",
              "         [[54.060997, 54.221   , 55.32    ],\n",
              "          [51.060997, 51.221   , 52.32    ],\n",
              "          [48.060997, 48.221   , 49.32    ],\n",
              "          ...,\n",
              "          [49.060997, 48.221   , 51.32    ],\n",
              "          [49.060997, 48.221   , 51.32    ],\n",
              "          [49.060997, 48.221   , 51.32    ]],\n",
              " \n",
              "         [[52.060997, 52.221   , 53.32    ],\n",
              "          [50.060997, 50.221   , 51.32    ],\n",
              "          [49.060997, 49.221   , 50.32    ],\n",
              "          ...,\n",
              "          [50.060997, 49.221   , 52.32    ],\n",
              "          [50.060997, 49.221   , 52.32    ],\n",
              "          [50.060997, 49.221   , 52.32    ]],\n",
              " \n",
              "         ...,\n",
              " \n",
              "         [[63.060997, 63.221   , 64.32    ],\n",
              "          [65.061   , 65.221   , 66.32    ],\n",
              "          [60.060997, 60.221   , 61.32    ],\n",
              "          ...,\n",
              "          [44.060997, 43.221   , 46.32    ],\n",
              "          [43.060997, 42.221   , 45.32    ],\n",
              "          [42.060997, 41.221   , 44.32    ]],\n",
              " \n",
              "         [[59.060997, 59.221   , 60.32    ],\n",
              "          [61.060997, 61.221   , 62.32    ],\n",
              "          [57.060997, 57.221   , 58.32    ],\n",
              "          ...,\n",
              "          [46.060997, 45.221   , 48.32    ],\n",
              "          [45.060997, 44.221   , 47.32    ],\n",
              "          [44.060997, 43.221   , 46.32    ]],\n",
              " \n",
              "         [[53.060997, 53.221   , 54.32    ],\n",
              "          [56.060997, 56.221   , 57.32    ],\n",
              "          [54.060997, 54.221   , 55.32    ],\n",
              "          ...,\n",
              "          [48.060997, 47.221   , 50.32    ],\n",
              "          [47.060997, 46.221   , 49.32    ],\n",
              "          [46.060997, 45.221   , 48.32    ]]],\n",
              " \n",
              " \n",
              "        [[[75.061   , 66.221   , 64.32    ],\n",
              "          [82.061   , 73.221   , 71.32    ],\n",
              "          [82.061   , 73.221   , 71.32    ],\n",
              "          ...,\n",
              "          [79.061   , 71.221   , 67.32    ],\n",
              "          [77.061   , 69.221   , 65.32    ],\n",
              "          [74.061   , 66.221   , 62.32    ]],\n",
              " \n",
              "         [[73.061   , 64.221   , 62.32    ],\n",
              "          [77.061   , 68.221   , 66.32    ],\n",
              "          [78.061   , 69.221   , 67.32    ],\n",
              "          ...,\n",
              "          [71.061   , 63.221   , 59.32    ],\n",
              "          [71.061   , 63.221   , 59.32    ],\n",
              "          [71.061   , 63.221   , 59.32    ]],\n",
              " \n",
              "         [[75.061   , 66.221   , 64.32    ],\n",
              "          [74.061   , 65.221   , 63.32    ],\n",
              "          [77.061   , 68.221   , 66.32    ],\n",
              "          ...,\n",
              "          [69.061   , 61.221   , 57.32    ],\n",
              "          [70.061   , 62.221   , 58.32    ],\n",
              "          [72.061   , 64.221   , 60.32    ]],\n",
              " \n",
              "         ...,\n",
              " \n",
              "         [[68.061   , 62.221   , 58.32    ],\n",
              "          [67.061   , 61.221   , 57.32    ],\n",
              "          [66.061   , 60.221   , 56.32    ],\n",
              "          ...,\n",
              "          [64.061   , 58.221   , 54.32    ],\n",
              "          [65.061   , 59.221   , 55.32    ],\n",
              "          [66.061   , 60.221   , 56.32    ]],\n",
              " \n",
              "         [[68.061   , 62.221   , 58.32    ],\n",
              "          [67.061   , 61.221   , 57.32    ],\n",
              "          [66.061   , 60.221   , 56.32    ],\n",
              "          ...,\n",
              "          [65.061   , 59.221   , 55.32    ],\n",
              "          [65.061   , 59.221   , 55.32    ],\n",
              "          [66.061   , 60.221   , 56.32    ]],\n",
              " \n",
              "         [[68.061   , 62.221   , 58.32    ],\n",
              "          [67.061   , 61.221   , 57.32    ],\n",
              "          [66.061   , 60.221   , 56.32    ],\n",
              "          ...,\n",
              "          [66.061   , 60.221   , 56.32    ],\n",
              "          [67.061   , 61.221   , 57.32    ],\n",
              "          [68.061   , 62.221   , 58.32    ]]]], dtype=float32),\n",
              " array([[0., 1., 0.],\n",
              "        [0., 0., 1.],\n",
              "        [0., 0., 1.],\n",
              "        [0., 0., 1.],\n",
              "        [0., 1., 0.]], dtype=float32))"
            ]
          },
          "metadata": {
            "tags": []
          },
          "execution_count": 136
        }
      ]
    },
    {
      "cell_type": "markdown",
      "metadata": {
        "id": "De7b6H2DjdzT",
        "colab_type": "text"
      },
      "source": [
        "  "
      ]
    },
    {
      "cell_type": "markdown",
      "metadata": {
        "button": false,
        "deletable": true,
        "new_sheet": false,
        "run_control": {
          "read_only": false
        },
        "id": "itCv9zOxjdzU",
        "colab_type": "text"
      },
      "source": [
        "### Thank you for completing this lab!\n",
        "\n",
        "This notebook was created by Alex Aklson."
      ]
    },
    {
      "cell_type": "markdown",
      "metadata": {
        "button": false,
        "deletable": true,
        "new_sheet": false,
        "run_control": {
          "read_only": false
        },
        "id": "eE0-ReMnjdzV",
        "colab_type": "text"
      },
      "source": [
        "This notebook is part of a course on **Coursera** called *AI Capstone Project with Deep Learning*. If you accessed this notebook outside the course, you can take this course online by clicking [here](https://cocl.us/DL0321EN_Coursera_Week4_LAB1)."
      ]
    },
    {
      "cell_type": "markdown",
      "metadata": {
        "button": false,
        "deletable": true,
        "new_sheet": false,
        "run_control": {
          "read_only": false
        },
        "id": "LhNzF5FCjdzW",
        "colab_type": "text"
      },
      "source": [
        "<hr>\n",
        "\n",
        "Copyright &copy; 2020 [IBM Developer Skills Network](https://cognitiveclass.ai/?utm_source=bducopyrightlink&utm_medium=dswb&utm_campaign=bdu). This notebook and its source code are released under the terms of the [MIT License](https://bigdatauniversity.com/mit-license/)."
      ]
    }
  ]
}